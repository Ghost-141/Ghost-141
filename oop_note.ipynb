{
 "cells": [
  {
   "cell_type": "markdown",
   "id": "680846ca",
   "metadata": {},
   "source": [
    "Constructor"
   ]
  },
  {
   "cell_type": "code",
   "execution_count": null,
   "id": "ab8828a3",
   "metadata": {},
   "outputs": [],
   "source": [
    "class Student:\n",
    "    def __init__(self, name, marks): # Default Constructor\n",
    "        self.name = name\n",
    "        self.marks = marks\n",
    "        print(\"Adding new student in Database\")\n"
   ]
  },
  {
   "cell_type": "code",
   "execution_count": 3,
   "id": "d49c7b86",
   "metadata": {},
   "outputs": [
    {
     "name": "stdout",
     "output_type": "stream",
     "text": [
      "Adding new student in Database\n",
      "Jhon 90\n"
     ]
    }
   ],
   "source": [
    "s1 = Student(\"Jhon\", 90)\n",
    "print(s1.name, s1.marks)"
   ]
  },
  {
   "cell_type": "markdown",
   "id": "cc03fefa",
   "metadata": {},
   "source": [
    "Attributes\n",
    "1. Class Attributes: If the value of an attribute is common among all the classes, then it is called Class Attributes. We define it out of the constructor. It's value will only be stored once for the entire class as it will not be changed when we create or define new class.\n",
    "2. Object Attributes: It is such type of attributes which value is not fixed or can be changed while defining object."
   ]
  },
  {
   "cell_type": "code",
   "execution_count": null,
   "id": "55c136e4",
   "metadata": {},
   "outputs": [],
   "source": [
    "class Student:\n",
    "    college_name=\"Imperial College\" # Class Attribute\n",
    "    def __init__(self, name, marks): # Default Constructor\n",
    "        self.name = name #object attribute\n",
    "        self.marks = marks #object attribute\n",
    "        print(\"Adding new student in Database\")"
   ]
  },
  {
   "cell_type": "markdown",
   "id": "ec217539",
   "metadata": {},
   "source": [
    "Methods are functions that belongs to objects.\n",
    "Static methods don't use the self parameters. It only works at class level. To define a static method we need to use decorator that define the class label. For static method we will use  **@staticmethod**"
   ]
  },
  {
   "cell_type": "code",
   "execution_count": null,
   "id": "aefa4172",
   "metadata": {},
   "outputs": [
    {
     "name": "stdout",
     "output_type": "stream",
     "text": [
      "Adding new student in Database\n",
      "Welcome to Hell karan\n"
     ]
    }
   ],
   "source": [
    "class Student:\n",
    "    college_name=\"Imperial College\" # Class Attribute\n",
    "    def __init__(self, name, marks): # Default Constructor\n",
    "        self.name = name #object attribute\n",
    "        self.marks = marks #object attribute\n",
    "        print(\"Adding new student in Database\")\n",
    "    def welcome(self):\n",
    "        print(\"Welcome to Hell\", self.name)\n",
    "s1 = Student(\"karan\", 90) #obbject creation\n",
    "s1.welcome() #calling method using name object"
   ]
  },
  {
   "cell_type": "markdown",
   "id": "0530ae2d",
   "metadata": {},
   "source": [
    "*Practice Question:* Create student class that takes name and marks of 3 subjects as arguments in constructor. Then create a method to print the average of their marks."
   ]
  },
  {
   "cell_type": "code",
   "execution_count": 10,
   "id": "7ce84c58",
   "metadata": {},
   "outputs": [
    {
     "name": "stdout",
     "output_type": "stream",
     "text": [
      "Average marks of Imtiaz is 95.0\n"
     ]
    }
   ],
   "source": [
    "class Student:\n",
    "    def __init__(self, name, marks):\n",
    "        self.name = name\n",
    "        self.marks = marks\n",
    "    def get_average(self):\n",
    "        sum = 0\n",
    "        for mark in self.marks:\n",
    "            sum += mark\n",
    "        average = sum/3\n",
    "        print(\"Average marks of\", self.name, \"is\", average)     \n",
    "\n",
    "s1 = Student(\"Imtiaz\", [90, 95, 100])      \n",
    "s1.get_average() #calling method using name object"
   ]
  },
  {
   "cell_type": "code",
   "execution_count": 16,
   "id": "92e27c18",
   "metadata": {},
   "outputs": [
    {
     "name": "stdout",
     "output_type": "stream",
     "text": [
      "Adding new student in Database\n",
      "Welcome Home\n"
     ]
    }
   ],
   "source": [
    "class Student:\n",
    "    college_name=\"Imperial College\" # Class Attribute\n",
    "    def __init__(self, name, marks): # Default Constructor\n",
    "        self.name = name #object attribute\n",
    "        self.marks = marks #object attribute\n",
    "        print(\"Adding new student in Database\")\n",
    "    @staticmethod #decorator    \n",
    "    def home():\n",
    "        print(\"Welcome Home\")    \n",
    "    def welcome(self):\n",
    "        print(\"Welcome to Hell\", self.name)\n",
    "s1 = Student(\"karan\", 90) #obbject creation\n",
    "s1.home()"
   ]
  },
  {
   "cell_type": "code",
   "execution_count": null,
   "id": "1893703a",
   "metadata": {},
   "outputs": [],
   "source": []
  }
 ],
 "metadata": {
  "kernelspec": {
   "display_name": "ml",
   "language": "python",
   "name": "python3"
  },
  "language_info": {
   "codemirror_mode": {
    "name": "ipython",
    "version": 3
   },
   "file_extension": ".py",
   "mimetype": "text/x-python",
   "name": "python",
   "nbconvert_exporter": "python",
   "pygments_lexer": "ipython3",
   "version": "3.10.16"
  }
 },
 "nbformat": 4,
 "nbformat_minor": 5
}
